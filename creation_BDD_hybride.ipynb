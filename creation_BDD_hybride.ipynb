{
 "cells": [
  {
   "cell_type": "markdown",
   "metadata": {},
   "source": [
    "# BDD hybride par ChromaDB"
   ]
  },
  {
   "cell_type": "markdown",
   "metadata": {},
   "source": [
    "# Explications\n",
    "\n",
    "Les bases de données vectorielles hybrides, comme **ChromaDB**, combinent **des vecteurs** (embeddings) pour la recherche sémantique avec **des données classiques** (métadonnées) pour le filtrage et l'organisation. Contrairement aux bases de données classiques (SQL), elles sont optimisées pour les requêtes **approximate nearest neighbor (ANN)** et les recherches **hybrides**.\n",
    "\n",
    "---\n",
    "\n",
    "## Structure des collections\n",
    "\n",
    "- 🔹 **Collections vs Tables** :\n",
    "  - En **SQL**, on utilise des **tables** avec des colonnes et des types fixes.\n",
    "  - En **ChromaDB**, on utilise des **collections**, qui stockent des **vecteurs**, des **IDs**, et des **métadonnées JSON**.\n",
    "  \n",
    "- 🔹 **Données stockées** dans chaque collection :\n",
    "  - **Embeddings** : représentations numériques (vecteurs) des données pour la recherche sémantique.\n",
    "  - **IDs uniques** : identifiants pour récupérer des éléments.\n",
    "  - **Métadonnées** : informations complémentaires sous forme de dictionnaire JSON.\n",
    "\n",
    "- 🔹 **Absence de schéma rigide** :\n",
    "  - Contrairement aux bases SQL, **les collections sont flexibles** : pas besoin de définir à l'avance les colonnes ou types de données.\n",
    "  - Les **métadonnées peuvent varier d’un élément à l’autre**.\n",
    "\n",
    "---\n",
    "\n",
    "## Lien entre les collections\n",
    "\n",
    "- 🔗 **Pas de relations directes comme en SQL** (pas de `JOIN`) → On simule les relations avec des **IDs croisés (\"foreign keys\")**.\n",
    "\n",
    "- 📌 **Stratégies pour gérer les relations** :\n",
    "  - Ajouter un **champ ID de référence** dans les métadonnées (ex: `\"author_id\": \"auteur_1\"` pour lier une image à un auteur).\n",
    "  - Effectuer des **requêtes en deux étapes** :\n",
    "    1. Rechercher un élément dans une collection.\n",
    "    2. Utiliser son ID pour récupérer les données associées dans une autre collection.\n",
    "\n",
    "  - Exemple d'association **1-N** (un auteur a plusieurs images) :\n",
    "\n",
    "    ```python\n",
    "    # Récupérer toutes les images d'un auteur donné\n",
    "    collection.get(where={\"author_id\": \"auteur_1\"})\n",
    "    ```\n",
    "\n",
    "  - 📍 Contrairement à SQL, pas de **contrainte d’intégrité référentielle** → Il faut gérer manuellement la suppression et la mise à jour des liens.\n",
    "\n",
    "---\n",
    "\n",
    "## Métadonnées\n",
    "\n",
    "- 🏷️ **Stockées en JSON**, flexibles, et utilisées pour le **filtrage rapide**.\n",
    "- 🔍 **Utilisées pour des recherches hybrides** :\n",
    "  - **Recherche vectorielle** pour la similarité sémantique.\n",
    "  - **Filtrage classique** sur des attributs spécifiques.\n",
    "  \n",
    "- 📊 **Avantages des métadonnées** :\n",
    "  - Permettent d’ajouter des **catégories, tags, sources, relations** aux données vectorielles.\n",
    "  - Accélèrent la recherche en limitant l’espace de recherche (ex: **ne chercher que dans une catégorie donnée**).\n",
    "\n",
    "- ✅ **Exemple de requête hybride** (trouver les 3 images les plus proches d’un vecteur, mais uniquement dans la catégorie \"animal\") :\n",
    "\n",
    "  ```python\n",
    "  collection.query(\n",
    "      query_embeddings=[[0.1, 0.2, 0.3]],\n",
    "      n_results=3,\n",
    "      where={\"category\": \"animal\"}\n",
    "  )\n"
   ]
  },
  {
   "cell_type": "markdown",
   "metadata": {},
   "source": [
    "# 2 approches possibles"
   ]
  },
  {
   "cell_type": "markdown",
   "metadata": {},
   "source": [
    "## structure classique d'une BDD"
   ]
  },
  {
   "cell_type": "markdown",
   "metadata": {},
   "source": [
    "### Imports"
   ]
  },
  {
   "cell_type": "code",
   "execution_count": 9,
   "metadata": {},
   "outputs": [],
   "source": [
    "import chromadb"
   ]
  },
  {
   "cell_type": "markdown",
   "metadata": {},
   "source": [
    "### Création de la base/client"
   ]
  },
  {
   "cell_type": "code",
   "execution_count": 10,
   "metadata": {},
   "outputs": [],
   "source": [
    "# Création du client et de la base locale\n",
    "client = chromadb.PersistentClient(path=\"./chroma_db\")\n"
   ]
  },
  {
   "cell_type": "markdown",
   "metadata": {},
   "source": [
    "### Création des collections"
   ]
  },
  {
   "cell_type": "code",
   "execution_count": 11,
   "metadata": {},
   "outputs": [],
   "source": [
    "# Création d'une collection\n",
    "detection = client.get_or_create_collection(\"detection\")\n",
    "image = client.get_or_create_collection(\"image\")\n",
    "video = client.get_or_create_collection(\"video\")"
   ]
  },
  {
   "cell_type": "markdown",
   "metadata": {},
   "source": [
    "### Suppression des collections"
   ]
  },
  {
   "cell_type": "code",
   "execution_count": 12,
   "metadata": {},
   "outputs": [],
   "source": [
    "# Suppression d'une collection\n",
    "#client.delete_collection(\"collection\")"
   ]
  },
  {
   "cell_type": "markdown",
   "metadata": {},
   "source": [
    "### Ajout de données à une collection"
   ]
  },
  {
   "cell_type": "code",
   "execution_count": 13,
   "metadata": {},
   "outputs": [],
   "source": [
    "# TODO : ajout de catégories obligatoires pour les collections\n",
    "\n",
    "# Ajout de documents avec vecteurs + métadonnées\n",
    "image.add(\n",
    "    ids=[\"1\"],\n",
    "    embeddings=[[0.1, 0.2, 0.3]],\n",
    "    metadatas=[{\"num_frame\": \"1\", \"nom_image\": \"frame001.jpg\"}]\n",
    ")"
   ]
  },
  {
   "cell_type": "markdown",
   "metadata": {},
   "source": [
    "### Affichage de l'ensemble"
   ]
  },
  {
   "cell_type": "code",
   "execution_count": 14,
   "metadata": {},
   "outputs": [
    {
     "name": "stdout",
     "output_type": "stream",
     "text": [
      "🔹 ID: 1\n"
     ]
    },
    {
     "ename": "TypeError",
     "evalue": "'NoneType' object is not subscriptable",
     "output_type": "error",
     "traceback": [
      "\u001b[1;31m---------------------------------------------------------------------------\u001b[0m",
      "\u001b[1;31mTypeError\u001b[0m                                 Traceback (most recent call last)",
      "Cell \u001b[1;32mIn[14], line 7\u001b[0m\n\u001b[0;32m      5\u001b[0m \u001b[38;5;28;01mfor\u001b[39;00m i \u001b[38;5;129;01min\u001b[39;00m \u001b[38;5;28mrange\u001b[39m(\u001b[38;5;28mlen\u001b[39m(all_data[\u001b[38;5;124m\"\u001b[39m\u001b[38;5;124mids\u001b[39m\u001b[38;5;124m\"\u001b[39m])):\n\u001b[0;32m      6\u001b[0m     \u001b[38;5;28mprint\u001b[39m(\u001b[38;5;124mf\u001b[39m\u001b[38;5;124m\"\u001b[39m\u001b[38;5;124m🔹 ID: \u001b[39m\u001b[38;5;132;01m{\u001b[39;00mall_data[\u001b[38;5;124m'\u001b[39m\u001b[38;5;124mids\u001b[39m\u001b[38;5;124m'\u001b[39m][i]\u001b[38;5;132;01m}\u001b[39;00m\u001b[38;5;124m\"\u001b[39m)\n\u001b[1;32m----> 7\u001b[0m     \u001b[38;5;28mprint\u001b[39m(\u001b[38;5;124mf\u001b[39m\u001b[38;5;124m\"\u001b[39m\u001b[38;5;124m🧠 Embedding: \u001b[39m\u001b[38;5;132;01m{\u001b[39;00m\u001b[43mall_data\u001b[49m\u001b[43m[\u001b[49m\u001b[38;5;124;43m'\u001b[39;49m\u001b[38;5;124;43membeddings\u001b[39;49m\u001b[38;5;124;43m'\u001b[39;49m\u001b[43m]\u001b[49m\u001b[43m[\u001b[49m\u001b[43mi\u001b[49m\u001b[43m]\u001b[49m\u001b[38;5;132;01m}\u001b[39;00m\u001b[38;5;124m\"\u001b[39m)\n\u001b[0;32m      8\u001b[0m     \u001b[38;5;28mprint\u001b[39m(\u001b[38;5;124mf\u001b[39m\u001b[38;5;124m\"\u001b[39m\u001b[38;5;124m📌 Métadonnées: \u001b[39m\u001b[38;5;132;01m{\u001b[39;00mall_data[\u001b[38;5;124m'\u001b[39m\u001b[38;5;124mmetadatas\u001b[39m\u001b[38;5;124m'\u001b[39m][i]\u001b[38;5;132;01m}\u001b[39;00m\u001b[38;5;124m\"\u001b[39m)\n\u001b[0;32m      9\u001b[0m     \u001b[38;5;28mprint\u001b[39m(\u001b[38;5;124m\"\u001b[39m\u001b[38;5;124m-\u001b[39m\u001b[38;5;124m\"\u001b[39m \u001b[38;5;241m*\u001b[39m \u001b[38;5;241m40\u001b[39m)\n",
      "\u001b[1;31mTypeError\u001b[0m: 'NoneType' object is not subscriptable"
     ]
    }
   ],
   "source": [
    "# Récupérer toutes les données (ids, embeddings, metadatas)\n",
    "all_data = image.get()\n",
    "\n",
    "# Afficher tout le contenu\n",
    "for i in range(len(all_data[\"ids\"])):\n",
    "    print(f\"🔹 ID: {all_data['ids'][i]}\")\n",
    "    print(f\"🧠 Embedding: {all_data['embeddings'][i]}\")\n",
    "    print(f\"📌 Métadonnées: {all_data['metadatas'][i]}\")\n",
    "    print(\"-\" * 40)\n"
   ]
  },
  {
   "cell_type": "markdown",
   "metadata": {},
   "source": [
    "### Requêtes"
   ]
  },
  {
   "cell_type": "code",
   "execution_count": null,
   "metadata": {},
   "outputs": [
    {
     "name": "stdout",
     "output_type": "stream",
     "text": [
      "🔍 Résultats de la recherche : {'ids': [['1']], 'embeddings': None, 'documents': [[None]], 'uris': None, 'data': None, 'metadatas': [[{'category': 'tech', 'title': 'Doc1'}]], 'distances': [[0.007499998360872616]], 'included': [<IncludeEnum.distances: 'distances'>, <IncludeEnum.documents: 'documents'>, <IncludeEnum.metadatas: 'metadatas'>]}\n"
     ]
    }
   ],
   "source": [
    "# Définition du vecteur de requête\n",
    "query_vector = [0.15, 0.25, 0.35]\n",
    "\n",
    "# Recherche hybride (similitude vectorielle + filtre sur la catégorie)\n",
    "results = collection.query(\n",
    "    query_embeddings=[query_vector],\n",
    "    n_results=1,  # Nombre de résultats souhaités\n",
    "    where={\"category\": \"tech\"}  # Filtrage par métadonnée\n",
    ")\n",
    "\n",
    "print(\"🔍 Résultats de la recherche :\", results)\n"
   ]
  },
  {
   "cell_type": "markdown",
   "metadata": {},
   "source": [
    "## regroupement de toutes les variables en 1 table"
   ]
  },
  {
   "cell_type": "code",
   "execution_count": 15,
   "metadata": {},
   "outputs": [],
   "source": [
    "import chromadb"
   ]
  },
  {
   "cell_type": "code",
   "execution_count": 16,
   "metadata": {},
   "outputs": [],
   "source": [
    "# Création du client et de la base locale\n",
    "client = chromadb.PersistentClient(path=\"./chroma_db\")"
   ]
  },
  {
   "cell_type": "code",
   "execution_count": 17,
   "metadata": {},
   "outputs": [],
   "source": [
    "# Création d'une collection\n",
    "detection = client.get_or_create_collection(\"detection\")"
   ]
  },
  {
   "cell_type": "code",
   "execution_count": null,
   "metadata": {},
   "outputs": [],
   "source": [
    "# TODO : ajout de catégories obligatoires pour les collections\n",
    "\n",
    "# Ajout de documents avec vecteurs + métadonnées\n",
    "detection.add(\n",
    "    ids=[\"1\"],\n",
    "    embeddings=[[0.1, 0.2, 0.3]],\n",
    "    metadatas=[{\n",
    "        \"nom_image\": \"frame001.jpg\",\n",
    "        \"num_frame\": \"1\", \n",
    "        \"nom_video\": \"video001.mp4\",\n",
    "        \"nb_frames_tot\": \"150\",\n",
    "        \"fps\": \"15\",\n",
    "        \"resolution\": \"1920x1080\",\n",
    "        \"class_name\": \"person\",\n",
    "        \"x\":\"400\",\n",
    "        \"y\":\"200\",\n",
    "        \"height\":\"400\",\n",
    "        \"width\":\"100\"}]\n",
    ")\n",
    "\n",
    "# REFLEXION : on a une ligne par objet détecté, alors qu'il faudrait une ligne par frame \n"
   ]
  },
  {
   "cell_type": "code",
   "execution_count": null,
   "metadata": {},
   "outputs": [],
   "source": [
    "# Récupérer toutes les données (ids, embeddings, metadatas)\n",
    "all_data = image.get()\n",
    "\n",
    "# Afficher tout le contenu\n",
    "for i in range(len(all_data[\"ids\"])):\n",
    "    print(f\"🔹 ID: {all_data['ids'][i]}\")\n",
    "    print(f\"🧠 Embedding: {all_data['embeddings'][i]}\")\n",
    "    print(f\"📌 Métadonnées: {all_data['metadatas'][i]}\")\n",
    "    print(\"-\" * 40)\n"
   ]
  },
  {
   "cell_type": "code",
   "execution_count": null,
   "metadata": {},
   "outputs": [],
   "source": [
    "# Définition du vecteur de requête\n",
    "query_vector = [0.15, 0.25, 0.35]\n",
    "\n",
    "# Recherche hybride (similitude vectorielle + filtre sur la catégorie)\n",
    "results = collection.query(\n",
    "    query_embeddings=[query_vector],\n",
    "    n_results=1,  # Nombre de résultats souhaités\n",
    "    where={\"category\": \"tech\"}  # Filtrage par métadonnée\n",
    ")\n",
    "\n",
    "print(\"🔍 Résultats de la recherche :\", results)\n"
   ]
  }
 ],
 "metadata": {
  "kernelspec": {
   "display_name": "VGS_proj",
   "language": "python",
   "name": "python3"
  },
  "language_info": {
   "codemirror_mode": {
    "name": "ipython",
    "version": 3
   },
   "file_extension": ".py",
   "mimetype": "text/x-python",
   "name": "python",
   "nbconvert_exporter": "python",
   "pygments_lexer": "ipython3",
   "version": "3.12.3"
  }
 },
 "nbformat": 4,
 "nbformat_minor": 2
}
