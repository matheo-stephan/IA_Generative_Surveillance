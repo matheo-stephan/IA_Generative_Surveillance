{
 "cells": [
  {
   "cell_type": "markdown",
   "id": "1f675dc6",
   "metadata": {},
   "source": [
    "# Résumé des Recherches sur la Similarité Image/Texte avec CLIP & BLIP"
   ]
  },
  {
   "cell_type": "markdown",
   "id": "994b6260",
   "metadata": {},
   "source": [
    "## 1. Contexte et Objectif\n",
    "\n",
    "**Modèles utilisés :**\n",
    "- **CLIP (ViT-B/32)** de OpenAI : Encode images et textes dans un espace vectoriel commun.\n",
    "- **BLIP (Salesforce/blip-image-captioning-base)** : Génère automatiquement des légendes d’images.\n",
    "\n",
    "**Objectif :**\n",
    "- Comparer une image et une description textuelle via leurs embeddings.\n",
    "- Évaluer la correspondance sémantique à l’aide de plusieurs méthodes de calcul de similarité."
   ]
  },
  {
   "cell_type": "code",
   "execution_count": 13,
   "id": "183be7a3",
   "metadata": {},
   "outputs": [],
   "source": [
    "# Importation necessary for the script to run\n",
    "\n",
    "## Chargement du modèle CLIP\n",
    "import torch\n",
    "import clip\n",
    "from PIL import Image\n",
    "import requests\n",
    "from sklearn.linear_model import LinearRegression\n",
    "from sklearn.decomposition import PCA\n",
    "import numpy as np\n",
    "from scipy.spatial.distance import cosine, euclidean\n",
    "import pandas as pd\n",
    "import matplotlib.pyplot as plt\n",
    "\n",
    "\n",
    "device = \"cuda\" if torch.cuda.is_available() else \"cpu\"\n",
    "model, preprocess = clip.load(\"ViT-B/32\", device=device)"
   ]
  },
  {
   "cell_type": "code",
   "execution_count": 2,
   "id": "bc01dfb8",
   "metadata": {},
   "outputs": [],
   "source": [
    "# Chargement et prétraitement d'une image\n",
    "image_url = \"https://www.alleycat.org/wp-content/uploads/2019/03/FELV-cat.jpg\"\n",
    "image = Image.open(requests.get(image_url, stream=True).raw).resize((224, 224))\n",
    "image_tensor = preprocess(image).unsqueeze(0).to(device)\n",
    "\n",
    "# Texte associé\n",
    "text = clip.tokenize([\"an orange cat\"]).to(device)\n",
    "\n",
    "# Encodage image / texte\n",
    "with torch.no_grad():\n",
    "    image_embedding = model.encode_image(image_tensor)\n",
    "    text_embedding = model.encode_text(text)\n",
    "\n",
    "# Normalisation\n",
    "image_embedding /= image_embedding.norm(dim=-1, keepdim=True)\n",
    "text_embedding /= text_embedding.norm(dim=-1, keepdim=True)\n",
    "\n",
    "# Passage en numpy\n",
    "image_np = image_embedding.cpu().numpy()\n",
    "text_np = text_embedding.cpu().numpy()"
   ]
  },
  {
   "cell_type": "markdown",
   "id": "f1209592",
   "metadata": {},
   "source": [
    "## 2. Méthodes et Résultats Numériques"
   ]
  },
  {
   "cell_type": "markdown",
   "id": "41f188e5",
   "metadata": {},
   "source": [
    "### A. Similarité Cosinus\n",
    "- Formule : sim(A, B) = (A · B) / (||A|| ||B||)\n",
    "- Résultat observé : ~0.28 à 0.31\n",
    "- Interprétation : Faible à modérée correspondance sémantique"
   ]
  },
  {
   "cell_type": "code",
   "execution_count": 3,
   "id": "08171adf",
   "metadata": {},
   "outputs": [
    {
     "name": "stdout",
     "output_type": "stream",
     "text": [
      "Similarité Cosinus : 0.28320\n"
     ]
    }
   ],
   "source": [
    "def compute_similarity(image_embedding, text_embedding):\n",
    "    \"\"\"\n",
    "    Compute cosine similarity between image and text embeddings.\n",
    "    \"\"\"\n",
    "    similarity_cos = 1 - cosine(image_embedding.flatten(), text_embedding.flatten())\n",
    "    return similarity_cos\n",
    "\n",
    "print(f\"Similarité Cosinus : {compute_similarity(image_np, text_np):.5f}\")"
   ]
  },
  {
   "cell_type": "markdown",
   "id": "afa11ae6",
   "metadata": {},
   "source": [
    "### B. Distance Euclidienne\n",
    "- Formule : dist(A, B) = ||A - B||\n",
    "- Résultat observé : ~1.19\n",
    "- Interprétation : Proximité géométrique cohérente"
   ]
  },
  {
   "cell_type": "code",
   "execution_count": 4,
   "id": "31507597",
   "metadata": {},
   "outputs": [
    {
     "name": "stdout",
     "output_type": "stream",
     "text": [
      "Distance Euclidienne : 1.19733\n"
     ]
    }
   ],
   "source": [
    "def compute_euclidean_distance(image_embedding, text_embedding):\n",
    "    \"\"\"\n",
    "    Compute Euclidean distance between image and text embeddings.\n",
    "    \"\"\"\n",
    "    euclid_dist = euclidean(image_embedding.flatten(), text_embedding.flatten())\n",
    "    return euclid_dist\n",
    "\n",
    "print(f\"Distance Euclidienne : {compute_euclidean_distance(image_np, text_np):.5f}\")"
   ]
  },
  {
   "cell_type": "markdown",
   "id": "b676f7ef",
   "metadata": {},
   "source": [
    "### C. Réduction de Dimension avec PCA\n",
    "- But : Réduire la dimension pour comparer ou visualiser\n",
    "- Résultat observé : Valeurs instables, parfois négatives\n",
    "- Problèmes : Perte d’information sémantique"
   ]
  },
  {
   "cell_type": "code",
   "execution_count": 5,
   "id": "9069156b",
   "metadata": {},
   "outputs": [
    {
     "name": "stdout",
     "output_type": "stream",
     "text": [
      "Similarité (PCA 2D) : -1.00000\n"
     ]
    }
   ],
   "source": [
    "def pca_2d(image_embedding, text_embedding):\n",
    "    \"\"\"\n",
    "    Compute PCA similarity between image and text embeddings.  \n",
    "    \"\"\"\n",
    "    pca = PCA(n_components=2)\n",
    "    combined = np.vstack([image_np, text_np])\n",
    "    pca_result = pca.fit_transform(combined)\n",
    "    image_pca, text_pca = pca_result[0], pca_result[1]\n",
    "    pca_similarity = 1 - cosine(image_pca, text_pca)\n",
    "    return pca_similarity\n",
    "\n",
    "print(f\"Similarité (PCA 2D) : {pca_2d(image_np, text_np):.5f}\")"
   ]
  },
  {
   "cell_type": "markdown",
   "id": "5b13c0f1",
   "metadata": {},
   "source": [
    "⚠️ Analyse des Écarts\n",
    "\n",
    "PCA → Résultat -1.00000\n",
    "Le cosine peut donner -1 si deux vecteurs sont opposés dans l’espace réduit (ici 2D).\n",
    "\n",
    "Cela montre que la projection a inversé le sens des vecteurs, perdant la sémantique originale.\n",
    "\n",
    "Problèmes fréquents en PCA sur peu de données (ici 2 vecteurs) : instabilité, mauvaise orientation, compression abusive.\n",
    "\n",
    "➡️ Conclusion : PCA non fiable pour la similarité ici → à utiliser uniquement pour visualisation qualitative, pas quantitative."
   ]
  },
  {
   "cell_type": "markdown",
   "id": "f9217359",
   "metadata": {},
   "source": [
    "### D. Régression Linéaire (Ajustement)\n",
    "- But : Ajuster les représentations pour forcer une correspondance\n",
    "- Résultat observé : Score = 1.0 (overfitting)\n",
    "- Problème : Surapprentissage, non généralisable"
   ]
  },
  {
   "cell_type": "code",
   "execution_count": 6,
   "id": "6e79a711",
   "metadata": {},
   "outputs": [
    {
     "name": "stdout",
     "output_type": "stream",
     "text": [
      "Similarité ajustée (Régression Linéaire) : 1.00000\n"
     ]
    }
   ],
   "source": [
    "def linear_regression(image_embedding, text_embedding):\n",
    "    \"\"\"\n",
    "    Compute linear regression similarity between image and text embeddings.\n",
    "    \"\"\"\n",
    "    reg = LinearRegression()\n",
    "    reg.fit(image_np, text_np)\n",
    "    image_adjusted = reg.predict(image_np)\n",
    "    text_adjusted = reg.predict(text_np)\n",
    "    adjusted_similarity = 1 - cosine(image_adjusted.flatten(), text_adjusted.flatten())\n",
    "    return adjusted_similarity\n",
    "\n",
    "print(f\"Similarité ajustée (Régression Linéaire) : {linear_regression(image_np, text_np):.5f}\")"
   ]
  },
  {
   "cell_type": "markdown",
   "id": "9829acf1",
   "metadata": {},
   "source": [
    "Régression Linéaire = 1.0\n",
    "Ce score parfait est trompeur : on ajuste un seul point pour qu’il prédise exactement lui-même.\n",
    "\n",
    "Aucun apprentissage réel, juste une interpolation triviale.\n",
    "\n",
    "Si on teste sur un autre couple image/texte, le score chuterait fortement.\n",
    "\n",
    "➡️ Conclusion : méthode pas fiable sans régularisation et sans ensemble de test."
   ]
  },
  {
   "cell_type": "markdown",
   "id": "205df8f7",
   "metadata": {},
   "source": [
    "## 3. BLIP : Complément d’Analyse\n",
    "- Génère des légendes automatiquement (ex. “a red apple”)\n",
    "- Similarité modérée avec CLIP (~0.31)\n",
    "- Descriptions erronées (ex. “a dog”) → similarité plus faible (~0.21)"
   ]
  },
  {
   "cell_type": "markdown",
   "id": "679cdfd1",
   "metadata": {},
   "source": [
    "## 4. Synthèse\n",
    "\n",
    "| Méthode               | Avantages                                  | Limites                                      | Verdict                  |\n",
    "|-----------------------|---------------------------------------------|----------------------------------------------|--------------------------|\n",
    "| Similarité Cosinus    | Stable, interprétable                      | Valeurs modérées                             | ✅ Recommandée            |\n",
    "| Distance Euclidienne  | Intuitive, géométrique                     | Dépend de la normalisation                   | ✔️ Acceptable             |\n",
    "| PCA                   | Utile pour visualisation                   | Instable, perte de sens                      | ❌ À éviter               |\n",
    "| Régression Linéaire   | Permet un ajustement                       | Fort risque d’overfitting                    | ❌ À éviter sans régularisation |\n",
    "| BLIP                  | Génère des descriptions d’images           | Correspondance CLIP non fiable               | ⚠️ À utiliser en complément |\n"
   ]
  },
  {
   "cell_type": "markdown",
   "id": "6b8a7430",
   "metadata": {},
   "source": [
    "## 5. Texte sur plusieurs images/textes différents"
   ]
  },
  {
   "cell_type": "markdown",
   "id": "d2d60629",
   "metadata": {},
   "source": [
    "### A. Différentes Images"
   ]
  },
  {
   "cell_type": "code",
   "execution_count": 7,
   "id": "50429998",
   "metadata": {},
   "outputs": [],
   "source": [
    "# Liste d'images (URL)\n",
    "image_urls = [\n",
    "    \"https://hips.hearstapps.com/hmg-prod/images/portrait-of-cat-sitting-outdoors-royalty-free-image-1701438826.jpg\",    # Chat\n",
    "    \"https://www.marketoy.com/media/catalog/product/cache/ffcb31fde135ed06fccea0a9cd4e2c34/4/3/4311904.jpg\",             # Voiture\n",
    "    \"https://upload.wikimedia.org/wikipedia/commons/1/1d/Golden_retriever_stehfoto.jpg\",                                 # Chien\n",
    "    \"https://lesoukbleu.com/wp-content/uploads/2020/09/organic_product3.jpg\",                                            # Fraises\n",
    "    \"https://ucarecdn.com/139e7682-c2e4-44fc-856f-9a924c6344c4/-/crop/640x360/20,0/-/preview/\"                           # Pyramide\n",
    "]"
   ]
  },
  {
   "cell_type": "markdown",
   "id": "0f2bbad6",
   "metadata": {},
   "source": [
    "### B. Différents Textes"
   ]
  },
  {
   "cell_type": "code",
   "execution_count": 8,
   "id": "3a11a3ba",
   "metadata": {},
   "outputs": [],
   "source": [
    "# Liste de textes\n",
    "text_descriptions = [\n",
    "    \"an orange cat\",\n",
    "    \"a blue car\",\n",
    "    \"a golden retriever dog\",\n",
    "    \"fresh strawberries\",\n",
    "    \"the Great Pyramid of Giza\"\n",
    "]"
   ]
  },
  {
   "cell_type": "markdown",
   "id": "6a6033db",
   "metadata": {},
   "source": [
    "### C. Génère les différents embeddings"
   ]
  },
  {
   "cell_type": "code",
   "execution_count": 9,
   "id": "714c4a98",
   "metadata": {},
   "outputs": [],
   "source": [
    "image_embeddings = []\n",
    "for url in image_urls:\n",
    "    try:\n",
    "        img = Image.open(requests.get(url, stream=True).raw).resize((224, 224))\n",
    "        img_tensor = preprocess(img).unsqueeze(0).to(device)\n",
    "        with torch.no_grad():\n",
    "            emb = model.encode_image(img_tensor)\n",
    "            emb /= emb.norm(dim=-1, keepdim=True)\n",
    "            image_embeddings.append(emb.cpu().numpy().flatten())\n",
    "    except Exception as e:\n",
    "        print(f\"Erreur image : {url}\\n{e}\")\n",
    "        image_embeddings.append(np.zeros(512))  # fallback\n",
    "\n",
    "text_embeddings = []\n",
    "for desc in text_descriptions:\n",
    "    token = clip.tokenize([desc]).to(device)\n",
    "    with torch.no_grad():\n",
    "        emb = model.encode_text(token)\n",
    "        emb /= emb.norm(dim=-1, keepdim=True)\n",
    "        text_embeddings.append(emb.cpu().numpy().flatten())\n"
   ]
  },
  {
   "cell_type": "markdown",
   "id": "3f184dd0",
   "metadata": {},
   "source": [
    "### D. Test les différentes fonctions avec les différents texte et images"
   ]
  },
  {
   "cell_type": "code",
   "execution_count": 10,
   "id": "b0aee5b6",
   "metadata": {},
   "outputs": [
    {
     "name": "stdout",
     "output_type": "stream",
     "text": [
      "=== Résultats pour l'Image 1 : \"an orange cat\" ===\n",
      "                           Cosine Similarity  Euclidean Distance\n",
      "Text Description                                                \n",
      "an orange cat                        0.28315             1.19737\n",
      "a blue car                           0.16716             1.29061\n",
      "a golden retriever dog               0.21011             1.25689\n",
      "fresh strawberries                   0.16338             1.29354\n",
      "the Great Pyramid of Giza            0.19348             1.27006\n",
      "\n",
      "\n",
      "=== Résultats pour l'Image 2 : \"a blue car\" ===\n",
      "                           Cosine Similarity  Euclidean Distance\n",
      "Text Description                                                \n",
      "an orange cat                        0.17029             1.28818\n",
      "a blue car                           0.29225             1.18975\n",
      "a golden retriever dog               0.14238             1.30967\n",
      "fresh strawberries                   0.13126             1.31813\n",
      "the Great Pyramid of Giza            0.12400             1.32363\n",
      "\n",
      "\n",
      "=== Résultats pour l'Image 3 : \"a golden retriever dog\" ===\n",
      "                           Cosine Similarity  Euclidean Distance\n",
      "Text Description                                                \n",
      "an orange cat                        0.19158             1.27155\n",
      "a blue car                           0.15716             1.29834\n",
      "a golden retriever dog               0.30515             1.17886\n",
      "fresh strawberries                   0.13175             1.31776\n",
      "the Great Pyramid of Giza            0.18486             1.27683\n",
      "\n",
      "\n",
      "=== Résultats pour l'Image 4 : \"fresh strawberries\" ===\n",
      "                           Cosine Similarity  Euclidean Distance\n",
      "Text Description                                                \n",
      "an orange cat                        0.14615             1.30679\n",
      "a blue car                           0.12407             1.32358\n",
      "a golden retriever dog               0.15036             1.30356\n",
      "fresh strawberries                   0.30163             1.18184\n",
      "the Great Pyramid of Giza            0.17724             1.28278\n",
      "\n",
      "\n",
      "=== Résultats pour l'Image 5 : \"the Great Pyramid of Giza\" ===\n",
      "                           Cosine Similarity  Euclidean Distance\n",
      "Text Description                                                \n",
      "an orange cat                        0.21343             1.25425\n",
      "a blue car                           0.17849             1.28181\n",
      "a golden retriever dog               0.19854             1.26606\n",
      "fresh strawberries                   0.15073             1.30328\n",
      "the Great Pyramid of Giza            0.32612             1.16093\n",
      "\n",
      "\n"
     ]
    }
   ],
   "source": [
    "import pandas as pd\n",
    "\n",
    "def display_results_per_image(image_embeddings, text_embeddings, text_descriptions):\n",
    "    for i, img_emb in enumerate(image_embeddings):\n",
    "        data = {\n",
    "            \"Text Description\": text_descriptions,\n",
    "            \"Cosine Similarity\": [],\n",
    "            \"Euclidean Distance\": []\n",
    "        }\n",
    "\n",
    "        for j, txt_emb in enumerate(text_embeddings):\n",
    "            similarity_cos = compute_similarity(img_emb, txt_emb)\n",
    "            euclid_dist = compute_euclidean_distance(img_emb, txt_emb)\n",
    "\n",
    "            data[\"Cosine Similarity\"].append(similarity_cos)\n",
    "            data[\"Euclidean Distance\"].append(euclid_dist)\n",
    "\n",
    "        df = pd.DataFrame(data)\n",
    "        df.set_index(\"Text Description\", inplace=True)\n",
    "\n",
    "        expected_text = text_descriptions[i]  # Supposé être la bonne description\n",
    "\n",
    "        print(f\"=== Résultats pour l'Image {i + 1} : \\\"{expected_text}\\\" ===\")\n",
    "        print(df.round(5))\n",
    "        print(\"\\n\")\n",
    "\n",
    "\n",
    "display_results_per_image(image_embeddings, text_embeddings, text_descriptions)\n"
   ]
  },
  {
   "cell_type": "markdown",
   "id": "174c1633",
   "metadata": {},
   "source": [
    "## Conseils :\n",
    "- Toujours normaliser les vecteurs.\n",
    "- Utiliser plusieurs échantillons.\n",
    "- Explorer d’autres méthodes comme t-SNE, UMAP ou MLP léger avec régularisation."
   ]
  },
  {
   "cell_type": "markdown",
   "id": "689ee223",
   "metadata": {},
   "source": [
    "### t-SNE "
   ]
  },
  {
   "cell_type": "code",
   "execution_count": 14,
   "id": "309d85de",
   "metadata": {},
   "outputs": [
    {
     "data": {
      "image/png": "[encoded data removed]",
      "text/plain": [
       "<Figure size 1000x800 with 1 Axes>"
      ]
     },
     "metadata": {},
     "output_type": "display_data"
    }
   ],
   "source": [
    "from sklearn.manifold import TSNE\n",
    "from sklearn.preprocessing import StandardScaler\n",
    "import seaborn as sns\n",
    "from sklearn.metrics import pairwise_distances\n",
    "\n",
    "def tsne_visualization(image_embeddings, text_embeddings, text_descriptions):\n",
    "    \"\"\"\n",
    "    Visualize image and text embeddings using t-SNE, with text labels and image indices.\n",
    "    \"\"\"\n",
    "    combined_embeddings = np.vstack([image_embeddings, text_embeddings])\n",
    "    scaler = StandardScaler()\n",
    "    scaled_embeddings = scaler.fit_transform(combined_embeddings)\n",
    "\n",
    "    tsne = TSNE(n_components=2, random_state=42, perplexity=min(5, len(combined_embeddings) - 1))\n",
    "    tsne_result = tsne.fit_transform(scaled_embeddings)\n",
    "\n",
    "    plt.figure(figsize=(10, 8))\n",
    "\n",
    "    # Scatter plot pour les images (en bleu)\n",
    "    sns.scatterplot(\n",
    "        x=tsne_result[:len(image_embeddings), 0],\n",
    "        y=tsne_result[:len(image_embeddings), 1],\n",
    "        label=\"Images\",\n",
    "        color='blue'\n",
    "    )\n",
    "\n",
    "    # Annoter les points images avec leur numéro\n",
    "    for i in range(len(image_embeddings)):\n",
    "        plt.annotate(f\"Img {i+1}\", (tsne_result[i, 0], tsne_result[i, 1]), fontsize=9, color='blue')\n",
    "\n",
    "    # Scatter plot pour les textes (en rouge)\n",
    "    sns.scatterplot(\n",
    "        x=tsne_result[len(image_embeddings):, 0],\n",
    "        y=tsne_result[len(image_embeddings):, 1],\n",
    "        label=\"Textes\",\n",
    "        color='red'\n",
    "    )\n",
    "\n",
    "    # Annoter les textes\n",
    "    for i, txt in enumerate(text_descriptions):\n",
    "        plt.annotate(txt, (tsne_result[len(image_embeddings) + i, 0], tsne_result[len(image_embeddings) + i, 1]), fontsize=9, color='red')\n",
    "\n",
    "    plt.title(\"t-SNE Visualization of Image and Text Embeddings\")\n",
    "    plt.xlabel(\"t-SNE Component 1\")\n",
    "    plt.ylabel(\"t-SNE Component 2\")\n",
    "    plt.legend()\n",
    "    plt.show()\n",
    "\n",
    "# Appel de la fonction pour visualiser les embeddings\n",
    "tsne_visualization(image_embeddings, text_embeddings, text_descriptions)\n"
   ]
  },
  {
   "cell_type": "markdown",
   "id": "6ff52ea4",
   "metadata": {},
   "source": [
    "### UMAP"
   ]
  },
  {
   "cell_type": "code",
   "execution_count": 15,
   "id": "0392fd8e",
   "metadata": {},
   "outputs": [
    {
     "name": "stderr",
     "output_type": "stream",
     "text": [
      "c:\\Users\\titou\\anaconda3\\envs\\mon_environnement\\Lib\\site-packages\\umap\\umap_.py:1952: UserWarning: n_jobs value 1 overridden to 1 by setting random_state. Use no seed for parallelism.\n",
      "  warn(\n",
      "c:\\Users\\titou\\anaconda3\\envs\\mon_environnement\\Lib\\site-packages\\umap\\umap_.py:2462: UserWarning: n_neighbors is larger than the dataset size; truncating to X.shape[0] - 1\n",
      "  warn(\n"
     ]
    },
    {
     "data": {
      "image/png": "[encoded data removed]",
      "text/plain": [
       "<Figure size 1000x800 with 1 Axes>"
      ]
     },
     "metadata": {},
     "output_type": "display_data"
    }
   ],
   "source": [
    "# Methode UMAP\n",
    "import umap.umap_ as umap\n",
    "import matplotlib.pyplot as plt\n",
    "import seaborn as sns\n",
    "from sklearn.preprocessing import StandardScaler\n",
    "import numpy as np\n",
    "from sklearn.metrics import pairwise_distances\n",
    "from sklearn.decomposition import PCA\n",
    "import pandas as pd\n",
    "\n",
    "def umap_visualization(image_embeddings, text_embeddings, text_descriptions):\n",
    "    \"\"\"\n",
    "    Visualize image and text embeddings using UMAP with labels for image indices and text descriptions.\n",
    "    \"\"\"\n",
    "    combined_embeddings = np.vstack([image_embeddings, text_embeddings])\n",
    "    scaler = StandardScaler()\n",
    "    scaled_embeddings = scaler.fit_transform(combined_embeddings)\n",
    "\n",
    "    umap_model = umap.UMAP(n_components=2, random_state=42)\n",
    "    umap_result = umap_model.fit_transform(scaled_embeddings)\n",
    "\n",
    "    plt.figure(figsize=(10, 8))\n",
    "\n",
    "    # Scatter plot pour les images (en bleu)\n",
    "    sns.scatterplot(\n",
    "        x=umap_result[:len(image_embeddings), 0],\n",
    "        y=umap_result[:len(image_embeddings), 1],\n",
    "        label=\"Images\",\n",
    "        color='blue'\n",
    "    )\n",
    "\n",
    "    # Annoter les points images avec leur numéro\n",
    "    for i in range(len(image_embeddings)):\n",
    "        plt.annotate(f\"Img {i+1}\", (umap_result[i, 0], umap_result[i, 1]), fontsize=9, color='blue')\n",
    "\n",
    "    # Scatter plot pour les textes (en rouge)\n",
    "    sns.scatterplot(\n",
    "        x=umap_result[len(image_embeddings):, 0],\n",
    "        y=umap_result[len(image_embeddings):, 1],\n",
    "        label=\"Textes\",\n",
    "        color='red'\n",
    "    )\n",
    "\n",
    "    # Annoter les textes\n",
    "    for i, txt in enumerate(text_descriptions):\n",
    "        plt.annotate(txt, (umap_result[len(image_embeddings) + i, 0], umap_result[len(image_embeddings) + i, 1]), fontsize=9, color='red')\n",
    "\n",
    "    plt.title(\"UMAP Visualization of Image and Text Embeddings\")\n",
    "    plt.xlabel(\"UMAP Component 1\")\n",
    "    plt.ylabel(\"UMAP Component 2\")\n",
    "    plt.legend()\n",
    "    plt.show()\n",
    "\n",
    "umap_visualization(image_embeddings, text_embeddings, text_descriptions)\n"
   ]
  },
  {
   "cell_type": "markdown",
   "id": "6af0e8a5",
   "metadata": {},
   "source": [
    "### MLP"
   ]
  },
  {
   "cell_type": "code",
   "execution_count": 19,
   "id": "30106859",
   "metadata": {},
   "outputs": [
    {
     "name": "stdout",
     "output_type": "stream",
     "text": [
      "Epoch [10/500], Loss: 1.5848\n",
      "Epoch [20/500], Loss: 1.5588\n",
      "Epoch [30/500], Loss: 1.4705\n",
      "Epoch [40/500], Loss: 1.4363\n",
      "Epoch [50/500], Loss: 1.2189\n",
      "Epoch [60/500], Loss: 0.8549\n",
      "Epoch [70/500], Loss: 0.6029\n",
      "Epoch [80/500], Loss: 0.7010\n",
      "Epoch [90/500], Loss: 0.5002\n",
      "Epoch [100/500], Loss: 0.1332\n",
      "Epoch [110/500], Loss: 0.1812\n",
      "Epoch [120/500], Loss: 0.1260\n",
      "Epoch [130/500], Loss: 0.1181\n",
      "Epoch [140/500], Loss: 0.0551\n",
      "Epoch [150/500], Loss: 0.0423\n",
      "Epoch [160/500], Loss: 0.0739\n",
      "Epoch [170/500], Loss: 0.0669\n",
      "Epoch [180/500], Loss: 0.0372\n",
      "Epoch [190/500], Loss: 0.0461\n",
      "Epoch [200/500], Loss: 0.0424\n",
      "Epoch [210/500], Loss: 0.0125\n",
      "Epoch [220/500], Loss: 0.0573\n",
      "Epoch [230/500], Loss: 0.0127\n",
      "Epoch [240/500], Loss: 0.0611\n",
      "Epoch [250/500], Loss: 0.0082\n",
      "Epoch [260/500], Loss: 0.0266\n",
      "Epoch [270/500], Loss: 0.0083\n",
      "Epoch [280/500], Loss: 0.0141\n",
      "Epoch [290/500], Loss: 0.0051\n",
      "Epoch [300/500], Loss: 0.0065\n",
      "Epoch [310/500], Loss: 0.0245\n",
      "Epoch [320/500], Loss: 0.0044\n",
      "Epoch [330/500], Loss: 0.0679\n",
      "Epoch [340/500], Loss: 0.0679\n",
      "Epoch [350/500], Loss: 0.0111\n",
      "Epoch [360/500], Loss: 0.0132\n",
      "Epoch [370/500], Loss: 0.0070\n",
      "Epoch [380/500], Loss: 0.0014\n",
      "Epoch [390/500], Loss: 0.0015\n",
      "Epoch [400/500], Loss: 0.0048\n",
      "Epoch [410/500], Loss: 0.0098\n",
      "Epoch [420/500], Loss: 0.0045\n",
      "Epoch [430/500], Loss: 0.0014\n",
      "Epoch [440/500], Loss: 0.0075\n",
      "Epoch [450/500], Loss: 0.0008\n",
      "Epoch [460/500], Loss: 0.0005\n",
      "Epoch [470/500], Loss: 0.0001\n",
      "Epoch [480/500], Loss: 0.0041\n",
      "Epoch [490/500], Loss: 0.0024\n",
      "Epoch [500/500], Loss: 0.0381\n",
      "\n",
      "=== Évaluation du MLP ===\n",
      "Accuracy : 1.0000\n",
      "\n",
      "Classification Report :\n",
      "                           precision    recall  f1-score   support\n",
      "\n",
      "               a blue car       1.00      1.00      1.00         1\n",
      "   a golden retriever dog       0.00      0.00      0.00         0\n",
      "            an orange cat       0.00      0.00      0.00         0\n",
      "       fresh strawberries       1.00      1.00      1.00         1\n",
      "the Great Pyramid of Giza       0.00      0.00      0.00         0\n",
      "\n",
      "                 accuracy                           1.00         2\n",
      "                macro avg       0.40      0.40      0.40         2\n",
      "             weighted avg       1.00      1.00      1.00         2\n",
      "\n",
      "\n",
      "Matrice de Confusion :\n",
      "[[1 0 0 0 0]\n",
      " [0 0 0 0 0]\n",
      " [0 0 0 0 0]\n",
      " [0 0 0 1 0]\n",
      " [0 0 0 0 0]]\n"
     ]
    },
    {
     "name": "stderr",
     "output_type": "stream",
     "text": [
      "c:\\Users\\titou\\anaconda3\\envs\\mon_environnement\\Lib\\site-packages\\sklearn\\metrics\\_classification.py:1531: UndefinedMetricWarning: Precision is ill-defined and being set to 0.0 in labels with no predicted samples. Use `zero_division` parameter to control this behavior.\n",
      "  _warn_prf(average, modifier, f\"{metric.capitalize()} is\", len(result))\n",
      "c:\\Users\\titou\\anaconda3\\envs\\mon_environnement\\Lib\\site-packages\\sklearn\\metrics\\_classification.py:1531: UndefinedMetricWarning: Recall is ill-defined and being set to 0.0 in labels with no true samples. Use `zero_division` parameter to control this behavior.\n",
      "  _warn_prf(average, modifier, f\"{metric.capitalize()} is\", len(result))\n",
      "c:\\Users\\titou\\anaconda3\\envs\\mon_environnement\\Lib\\site-packages\\sklearn\\metrics\\_classification.py:1531: UndefinedMetricWarning: F-score is ill-defined and being set to 0.0 in labels with no true nor predicted samples. Use `zero_division` parameter to control this behavior.\n",
      "  _warn_prf(average, modifier, f\"{metric.capitalize()} is\", len(result))\n",
      "c:\\Users\\titou\\anaconda3\\envs\\mon_environnement\\Lib\\site-packages\\sklearn\\metrics\\_classification.py:1531: UndefinedMetricWarning: Precision is ill-defined and being set to 0.0 in labels with no predicted samples. Use `zero_division` parameter to control this behavior.\n",
      "  _warn_prf(average, modifier, f\"{metric.capitalize()} is\", len(result))\n",
      "c:\\Users\\titou\\anaconda3\\envs\\mon_environnement\\Lib\\site-packages\\sklearn\\metrics\\_classification.py:1531: UndefinedMetricWarning: Recall is ill-defined and being set to 0.0 in labels with no true samples. Use `zero_division` parameter to control this behavior.\n",
      "  _warn_prf(average, modifier, f\"{metric.capitalize()} is\", len(result))\n",
      "c:\\Users\\titou\\anaconda3\\envs\\mon_environnement\\Lib\\site-packages\\sklearn\\metrics\\_classification.py:1531: UndefinedMetricWarning: F-score is ill-defined and being set to 0.0 in labels with no true nor predicted samples. Use `zero_division` parameter to control this behavior.\n",
      "  _warn_prf(average, modifier, f\"{metric.capitalize()} is\", len(result))\n",
      "c:\\Users\\titou\\anaconda3\\envs\\mon_environnement\\Lib\\site-packages\\sklearn\\metrics\\_classification.py:1531: UndefinedMetricWarning: Precision is ill-defined and being set to 0.0 in labels with no predicted samples. Use `zero_division` parameter to control this behavior.\n",
      "  _warn_prf(average, modifier, f\"{metric.capitalize()} is\", len(result))\n",
      "c:\\Users\\titou\\anaconda3\\envs\\mon_environnement\\Lib\\site-packages\\sklearn\\metrics\\_classification.py:1531: UndefinedMetricWarning: Recall is ill-defined and being set to 0.0 in labels with no true samples. Use `zero_division` parameter to control this behavior.\n",
      "  _warn_prf(average, modifier, f\"{metric.capitalize()} is\", len(result))\n",
      "c:\\Users\\titou\\anaconda3\\envs\\mon_environnement\\Lib\\site-packages\\sklearn\\metrics\\_classification.py:1531: UndefinedMetricWarning: F-score is ill-defined and being set to 0.0 in labels with no true nor predicted samples. Use `zero_division` parameter to control this behavior.\n",
      "  _warn_prf(average, modifier, f\"{metric.capitalize()} is\", len(result))\n"
     ]
    }
   ],
   "source": [
    "import torch\n",
    "import torch.nn as nn\n",
    "import torch.optim as optim\n",
    "from sklearn.model_selection import train_test_split\n",
    "from sklearn.metrics import accuracy_score, classification_report, confusion_matrix\n",
    "from sklearn.preprocessing import LabelEncoder\n",
    "\n",
    "def train_mlp_model(image_embeddings, text_embeddings, text_descriptions):\n",
    "    \"\"\"\n",
    "    Train a simple MLP model to classify image and text embeddings and evaluate it.\n",
    "    \"\"\"\n",
    "    # Convert embeddings to numpy arrays\n",
    "    image_embeddings = np.array(image_embeddings)\n",
    "    text_embeddings = np.array(text_embeddings)\n",
    "\n",
    "    # Combine image and text embeddings\n",
    "    combined_embeddings = np.vstack([image_embeddings, text_embeddings])\n",
    "    \n",
    "    # Create labels (each description duplicated for image + text)\n",
    "    labels = np.array(text_descriptions * 2)\n",
    "\n",
    "    # Encode text labels into numbers\n",
    "    le = LabelEncoder()\n",
    "    encoded_labels = le.fit_transform(labels)\n",
    "\n",
    "    # Split data into train/test sets\n",
    "    X_train, X_test, y_train, y_test = train_test_split(combined_embeddings, encoded_labels, test_size=0.2, random_state=42)\n",
    "\n",
    "    # Define MLP model\n",
    "    class MLPModel(nn.Module):\n",
    "        def __init__(self, input_size, output_size):\n",
    "            super(MLPModel, self).__init__()\n",
    "            self.fc1 = nn.Linear(input_size, 128)\n",
    "            self.fc2 = nn.Linear(128, 64)\n",
    "            self.fc3 = nn.Linear(64, output_size)\n",
    "            self.dropout = nn.Dropout(0.5)\n",
    "\n",
    "        def forward(self, x):\n",
    "            x = torch.relu(self.fc1(x))\n",
    "            x = self.dropout(x)\n",
    "            x = torch.relu(self.fc2(x))\n",
    "            x = self.dropout(x)\n",
    "            x = self.fc3(x)\n",
    "            return x\n",
    "\n",
    "    # Initialisation\n",
    "    input_size = combined_embeddings.shape[1]\n",
    "    output_size = len(le.classes_)\n",
    "    model = MLPModel(input_size, output_size).to(device)\n",
    "\n",
    "    # Perte + Optimiseur\n",
    "    criterion = nn.CrossEntropyLoss()\n",
    "    optimizer = optim.Adam(model.parameters(), lr=0.001)\n",
    "\n",
    "    # Convert data to torch tensors\n",
    "    X_train_tensor = torch.tensor(X_train, dtype=torch.float32).to(device)\n",
    "    y_train_tensor = torch.tensor(y_train, dtype=torch.long).to(device)\n",
    "    X_test_tensor = torch.tensor(X_test, dtype=torch.float32).to(device)\n",
    "\n",
    "    # Entraînement\n",
    "    num_epochs = 500\n",
    "    for epoch in range(num_epochs):\n",
    "        model.train()\n",
    "        optimizer.zero_grad()\n",
    "        outputs = model(X_train_tensor)\n",
    "        loss = criterion(outputs, y_train_tensor)\n",
    "        loss.backward()\n",
    "        optimizer.step()\n",
    "\n",
    "        if (epoch + 1) % 10 == 0:\n",
    "            print(f\"Epoch [{epoch + 1}/{num_epochs}], Loss: {loss.item():.4f}\")\n",
    "\n",
    "    # Évaluation\n",
    "    model.eval()\n",
    "    with torch.no_grad():\n",
    "        y_pred_logits = model(X_test_tensor)\n",
    "        y_pred = torch.argmax(y_pred_logits, dim=1).cpu().numpy()\n",
    "\n",
    "    y_test_np = y_test  # déjà en numpy\n",
    "\n",
    "    acc = accuracy_score(y_test_np, y_pred)\n",
    "    print(\"\\n=== Évaluation du MLP ===\")\n",
    "    print(f\"Accuracy : {acc:.4f}\")\n",
    "    print(\"\\nClassification Report :\")\n",
    "    print(classification_report(y_test_np, y_pred, target_names=le.classes_, labels=range(len(le.classes_))))\n",
    "    print(\"\\nMatrice de Confusion :\")\n",
    "    print(confusion_matrix(y_test_np, y_pred, labels=range(len(le.classes_))))\n",
    "\n",
    "# Appel de la fonction\n",
    "train_mlp_model(image_embeddings, text_embeddings, text_descriptions)\n"
   ]
  }
 ],
 "metadata": {
  "kernelspec": {
   "display_name": "mon_environnement",
   "language": "python",
   "name": "python3"
  },
  "language_info": {
   "codemirror_mode": {
    "name": "ipython",
    "version": 3
   },
   "file_extension": ".py",
   "mimetype": "text/x-python",
   "name": "python",
   "nbconvert_exporter": "python",
   "pygments_lexer": "ipython3",
   "version": "3.12.5"
  }
 },
 "nbformat": 4,
 "nbformat_minor": 5
}
